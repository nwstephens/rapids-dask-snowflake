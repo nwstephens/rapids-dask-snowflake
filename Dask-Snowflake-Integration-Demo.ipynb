{
 "cells": [
  {
   "cell_type": "markdown",
   "id": "ba72e47e",
   "metadata": {},
   "source": [
    "# Dask-Snowflake Integration Demo\n",
    "\n",
    "This notebook demonstrates the `dask-snowflake` integration package which supports parallel read/write from Snowflake to Python with Dask.\n",
    "\n",
    "The notebook is structured as follows:\n",
    "1. Setup remote Dask resources\n",
    "2. Connect to Snowflake\n",
    "3. Write Data to Snowflake in Parallel\n",
    "4. Read Data from Snowflake in Parallel\n",
    "5. Use Dask to Train XGBoost on Snowflake Data"
   ]
  },
  {
   "cell_type": "code",
   "execution_count": 34,
   "id": "61393481",
   "metadata": {},
   "outputs": [],
   "source": [
    "import os\n",
    "import time"
   ]
  },
  {
   "cell_type": "markdown",
   "id": "7a672f1a",
   "metadata": {
    "tags": []
   },
   "source": [
    "## 1. Set-up Dask Resources\n",
    "\n",
    "We'll start by launching our local Dask."
   ]
  },
  {
   "cell_type": "code",
   "execution_count": 35,
   "id": "675378ac-3891-4e9b-8bf5-3ba378c3bc4e",
   "metadata": {},
   "outputs": [],
   "source": [
    "from dask.distributed import Client, wait, get_worker, LocalCluster"
   ]
  },
  {
   "cell_type": "code",
   "execution_count": 36,
   "id": "1c614c5d-f155-4ad4-97bc-c18878b3416f",
   "metadata": {},
   "outputs": [
    {
     "name": "stderr",
     "output_type": "stream",
     "text": [
      "/opt/conda/envs/rapids/lib/python3.8/site-packages/distributed/node.py:180: UserWarning: Port 8787 is already in use.\n",
      "Perhaps you already have a cluster running?\n",
      "Hosting the HTTP server on port 41553 instead\n",
      "  warnings.warn(\n"
     ]
    },
    {
     "data": {
      "text/html": [
       "<div style=\"\">\n",
       "    <div>\n",
       "        <div style=\"width: 24px; height: 24px; background-color: #FFF7E5; border: 3px solid #FF6132; border-radius: 5px; position: absolute;\"> </div>\n",
       "        <div style=\"margin-left: 48px;\">\n",
       "            <h3 style=\"margin-bottom: 0px;\">Scheduler</h3>\n",
       "            <p style=\"color: #9D9D9D; margin-bottom: 0px;\">Scheduler-0cfb5b8a-8ed3-4377-953e-c34f1f2ebdf1</p>\n",
       "            <table style=\"width: 100%; text-align: left;\">\n",
       "                <tr>\n",
       "                    <td style=\"text-align: left;\">\n",
       "                        <strong>Comm:</strong> tcp://127.0.0.1:43631\n",
       "                    </td>\n",
       "                    <td style=\"text-align: left;\">\n",
       "                        <strong>Workers:</strong> 2\n",
       "                    </td>\n",
       "                </tr>\n",
       "                <tr>\n",
       "                    <td style=\"text-align: left;\">\n",
       "                        <strong>Dashboard:</strong> <a href=\"http://127.0.0.1:41553/status\" target=\"_blank\">http://127.0.0.1:41553/status</a>\n",
       "                    </td>\n",
       "                    <td style=\"text-align: left;\">\n",
       "                        <strong>Total threads:</strong> 16\n",
       "                    </td>\n",
       "                </tr>\n",
       "                <tr>\n",
       "                    <td style=\"text-align: left;\">\n",
       "                        <strong>Started:</strong> Just now\n",
       "                    </td>\n",
       "                    <td style=\"text-align: left;\">\n",
       "                        <strong>Total memory:</strong> 503.53 GiB\n",
       "                    </td>\n",
       "                </tr>\n",
       "            </table>\n",
       "        </div>\n",
       "    </div>\n",
       "\n",
       "    <details style=\"margin-left: 48px;\">\n",
       "        <summary style=\"margin-bottom: 20px;\">\n",
       "            <h3 style=\"display: inline;\">Workers</h3>\n",
       "        </summary>\n",
       "\n",
       "        \n",
       "        <div style=\"margin-bottom: 20px;\">\n",
       "            <div style=\"width: 24px; height: 24px; background-color: #DBF5FF; border: 3px solid #4CC9FF; border-radius: 5px; position: absolute;\"> </div>\n",
       "            <div style=\"margin-left: 48px;\">\n",
       "            <details>\n",
       "                <summary>\n",
       "                    <h4 style=\"margin-bottom: 0px; display: inline;\">Worker: 0</h4>\n",
       "                </summary>\n",
       "                <table style=\"width: 100%; text-align: left;\">\n",
       "                    <tr>\n",
       "                        <td style=\"text-align: left;\">\n",
       "                            <strong>Comm: </strong> tcp://127.0.0.1:38405\n",
       "                        </td>\n",
       "                        <td style=\"text-align: left;\">\n",
       "                            <strong>Total threads: </strong> 8\n",
       "                        </td>\n",
       "                    </tr>\n",
       "                    <tr>\n",
       "                        <td style=\"text-align: left;\">\n",
       "                            <strong>Dashboard: </strong> <a href=\"http://127.0.0.1:44759/status\" target=\"_blank\">http://127.0.0.1:44759/status</a>\n",
       "                        </td>\n",
       "                        <td style=\"text-align: left;\">\n",
       "                            <strong>Memory: </strong> 251.76 GiB\n",
       "                        </td>\n",
       "                    </tr>\n",
       "                    <tr>\n",
       "                        <td style=\"text-align: left;\">\n",
       "                            <strong>Nanny: </strong> tcp://127.0.0.1:39191\n",
       "                        </td>\n",
       "                        <td style=\"text-align: left;\"></td>\n",
       "                    </tr>\n",
       "                    <tr>\n",
       "                        <td colspan=\"2\" style=\"text-align: left;\">\n",
       "                            <strong>Local directory: </strong> /rapids/notebooks/snowflake/dask-worker-space/worker-1mw2_fy2\n",
       "                        </td>\n",
       "                    </tr>\n",
       "\n",
       "                    \n",
       "                    <tr>\n",
       "                        <td style=\"text-align: left;\">\n",
       "                            <strong>GPU: </strong>NVIDIA RTX A6000\n",
       "                        </td>\n",
       "                        <td style=\"text-align: left;\">\n",
       "                            <strong>GPU memory: </strong> 47.99 GiB\n",
       "                        </td>\n",
       "                    </tr>\n",
       "                    \n",
       "\n",
       "                    \n",
       "                    <tr>\n",
       "                        <td style=\"text-align: left;\">\n",
       "                            <strong>Tasks executing: </strong> 0\n",
       "                        </td>\n",
       "                        <td style=\"text-align: left;\">\n",
       "                            <strong>Tasks in memory: </strong> 0\n",
       "                        </td>\n",
       "                    </tr>\n",
       "                    <tr>\n",
       "                        <td style=\"text-align: left;\">\n",
       "                            <strong>Tasks ready: </strong> 0\n",
       "                        </td>\n",
       "                        <td style=\"text-align: left;\">\n",
       "                            <strong>Tasks in flight: </strong>0\n",
       "                        </td>\n",
       "                    </tr>\n",
       "                    <tr>\n",
       "                        <td style=\"text-align: left;\">\n",
       "                            <strong>CPU usage:</strong> 0.0%\n",
       "                        </td>\n",
       "                        <td style=\"text-align: left;\">\n",
       "                            <strong>Last seen: </strong> Just now\n",
       "                        </td>\n",
       "                    </tr>\n",
       "                    <tr>\n",
       "                        <td style=\"text-align: left;\">\n",
       "                            <strong>Memory usage: </strong> 65.23 MiB\n",
       "                        </td>\n",
       "                        <td style=\"text-align: left;\">\n",
       "                            <strong>Spilled bytes: </strong> 0 B\n",
       "                        </td>\n",
       "                    </tr>\n",
       "                    <tr>\n",
       "                        <td style=\"text-align: left;\">\n",
       "                            <strong>Read bytes: </strong> 0.0 B\n",
       "                        </td>\n",
       "                        <td style=\"text-align: left;\">\n",
       "                            <strong>Write bytes: </strong> 0.0 B\n",
       "                        </td>\n",
       "                    </tr>\n",
       "                    \n",
       "\n",
       "                </table>\n",
       "            </details>\n",
       "            </div>\n",
       "        </div>\n",
       "        \n",
       "        <div style=\"margin-bottom: 20px;\">\n",
       "            <div style=\"width: 24px; height: 24px; background-color: #DBF5FF; border: 3px solid #4CC9FF; border-radius: 5px; position: absolute;\"> </div>\n",
       "            <div style=\"margin-left: 48px;\">\n",
       "            <details>\n",
       "                <summary>\n",
       "                    <h4 style=\"margin-bottom: 0px; display: inline;\">Worker: 1</h4>\n",
       "                </summary>\n",
       "                <table style=\"width: 100%; text-align: left;\">\n",
       "                    <tr>\n",
       "                        <td style=\"text-align: left;\">\n",
       "                            <strong>Comm: </strong> tcp://127.0.0.1:33297\n",
       "                        </td>\n",
       "                        <td style=\"text-align: left;\">\n",
       "                            <strong>Total threads: </strong> 8\n",
       "                        </td>\n",
       "                    </tr>\n",
       "                    <tr>\n",
       "                        <td style=\"text-align: left;\">\n",
       "                            <strong>Dashboard: </strong> <a href=\"http://127.0.0.1:40875/status\" target=\"_blank\">http://127.0.0.1:40875/status</a>\n",
       "                        </td>\n",
       "                        <td style=\"text-align: left;\">\n",
       "                            <strong>Memory: </strong> 251.76 GiB\n",
       "                        </td>\n",
       "                    </tr>\n",
       "                    <tr>\n",
       "                        <td style=\"text-align: left;\">\n",
       "                            <strong>Nanny: </strong> tcp://127.0.0.1:41395\n",
       "                        </td>\n",
       "                        <td style=\"text-align: left;\"></td>\n",
       "                    </tr>\n",
       "                    <tr>\n",
       "                        <td colspan=\"2\" style=\"text-align: left;\">\n",
       "                            <strong>Local directory: </strong> /rapids/notebooks/snowflake/dask-worker-space/worker-um3ubexp\n",
       "                        </td>\n",
       "                    </tr>\n",
       "\n",
       "                    \n",
       "                    <tr>\n",
       "                        <td style=\"text-align: left;\">\n",
       "                            <strong>GPU: </strong>NVIDIA RTX A6000\n",
       "                        </td>\n",
       "                        <td style=\"text-align: left;\">\n",
       "                            <strong>GPU memory: </strong> 47.99 GiB\n",
       "                        </td>\n",
       "                    </tr>\n",
       "                    \n",
       "\n",
       "                    \n",
       "                    <tr>\n",
       "                        <td style=\"text-align: left;\">\n",
       "                            <strong>Tasks executing: </strong> 0\n",
       "                        </td>\n",
       "                        <td style=\"text-align: left;\">\n",
       "                            <strong>Tasks in memory: </strong> 0\n",
       "                        </td>\n",
       "                    </tr>\n",
       "                    <tr>\n",
       "                        <td style=\"text-align: left;\">\n",
       "                            <strong>Tasks ready: </strong> 0\n",
       "                        </td>\n",
       "                        <td style=\"text-align: left;\">\n",
       "                            <strong>Tasks in flight: </strong>0\n",
       "                        </td>\n",
       "                    </tr>\n",
       "                    <tr>\n",
       "                        <td style=\"text-align: left;\">\n",
       "                            <strong>CPU usage:</strong> 0.0%\n",
       "                        </td>\n",
       "                        <td style=\"text-align: left;\">\n",
       "                            <strong>Last seen: </strong> Just now\n",
       "                        </td>\n",
       "                    </tr>\n",
       "                    <tr>\n",
       "                        <td style=\"text-align: left;\">\n",
       "                            <strong>Memory usage: </strong> 65.10 MiB\n",
       "                        </td>\n",
       "                        <td style=\"text-align: left;\">\n",
       "                            <strong>Spilled bytes: </strong> 0 B\n",
       "                        </td>\n",
       "                    </tr>\n",
       "                    <tr>\n",
       "                        <td style=\"text-align: left;\">\n",
       "                            <strong>Read bytes: </strong> 0.0 B\n",
       "                        </td>\n",
       "                        <td style=\"text-align: left;\">\n",
       "                            <strong>Write bytes: </strong> 0.0 B\n",
       "                        </td>\n",
       "                    </tr>\n",
       "                    \n",
       "\n",
       "                </table>\n",
       "            </details>\n",
       "            </div>\n",
       "        </div>\n",
       "        \n",
       "\n",
       "    </details>\n",
       "</div>"
      ],
      "text/plain": [
       "{'type': 'Scheduler',\n",
       " 'id': 'Scheduler-0cfb5b8a-8ed3-4377-953e-c34f1f2ebdf1',\n",
       " 'address': 'tcp://127.0.0.1:43631',\n",
       " 'services': {'dashboard': 41553},\n",
       " 'started': 1651166191.9158804,\n",
       " 'workers': {'tcp://127.0.0.1:33297': {'type': 'Worker',\n",
       "   'id': 1,\n",
       "   'host': '127.0.0.1',\n",
       "   'resources': {},\n",
       "   'local_directory': '/rapids/notebooks/snowflake/dask-worker-space/worker-um3ubexp',\n",
       "   'name': 1,\n",
       "   'nthreads': 8,\n",
       "   'memory_limit': 270328014848,\n",
       "   'last_seen': 1651166192.4743316,\n",
       "   'services': {'dashboard': 40875},\n",
       "   'metrics': {'executing': 0,\n",
       "    'in_memory': 0,\n",
       "    'ready': 0,\n",
       "    'in_flight': 0,\n",
       "    'bandwidth': {'total': 100000000, 'workers': {}, 'types': {}},\n",
       "    'spilled_nbytes': {'memory': 0, 'disk': 0},\n",
       "    'cpu': 0.0,\n",
       "    'memory': 68259840,\n",
       "    'time': 1651166192.2971048,\n",
       "    'read_bytes': 0.0,\n",
       "    'write_bytes': 0.0,\n",
       "    'read_bytes_disk': 0.0,\n",
       "    'write_bytes_disk': 0.0,\n",
       "    'num_fds': 26,\n",
       "    'gpu_utilization': 0,\n",
       "    'gpu_memory_used': 8223129600,\n",
       "    'gpu': {'utilization': 0, 'memory-used': 8223129600}},\n",
       "   'nanny': 'tcp://127.0.0.1:41395',\n",
       "   'gpu': {'memory-total': 51527024640, 'name': 'NVIDIA RTX A6000'}},\n",
       "  'tcp://127.0.0.1:38405': {'type': 'Worker',\n",
       "   'id': 0,\n",
       "   'host': '127.0.0.1',\n",
       "   'resources': {},\n",
       "   'local_directory': '/rapids/notebooks/snowflake/dask-worker-space/worker-1mw2_fy2',\n",
       "   'name': 0,\n",
       "   'nthreads': 8,\n",
       "   'memory_limit': 270328014848,\n",
       "   'last_seen': 1651166192.4936323,\n",
       "   'services': {'dashboard': 44759},\n",
       "   'metrics': {'executing': 0,\n",
       "    'in_memory': 0,\n",
       "    'ready': 0,\n",
       "    'in_flight': 0,\n",
       "    'bandwidth': {'total': 100000000, 'workers': {}, 'types': {}},\n",
       "    'spilled_nbytes': {'memory': 0, 'disk': 0},\n",
       "    'cpu': 0.0,\n",
       "    'memory': 68403200,\n",
       "    'time': 1651166192.3115957,\n",
       "    'read_bytes': 0.0,\n",
       "    'write_bytes': 0.0,\n",
       "    'read_bytes_disk': 0.0,\n",
       "    'write_bytes_disk': 0.0,\n",
       "    'num_fds': 26,\n",
       "    'gpu_utilization': 0,\n",
       "    'gpu_memory_used': 8223129600,\n",
       "    'gpu': {'utilization': 0, 'memory-used': 8223129600}},\n",
       "   'nanny': 'tcp://127.0.0.1:39191',\n",
       "   'gpu': {'memory-total': 51527024640, 'name': 'NVIDIA RTX A6000'}}}}"
      ]
     },
     "execution_count": 36,
     "metadata": {},
     "output_type": "execute_result"
    }
   ],
   "source": [
    "cluster = LocalCluster(threads_per_worker=8, n_workers=2)\n",
    "client = Client(cluster)\n",
    "client.scheduler_info()"
   ]
  },
  {
   "cell_type": "markdown",
   "id": "a0335966",
   "metadata": {},
   "source": [
    "## 2. Connect to Snowflake\n",
    "Let's now connect our Python session to Snowflake using Snowflake's connector. \n",
    "\n",
    "**NOTE:** For this section to work you will need to have the Snowflake Sample Data available in your account. Otherwise, change the query to something relevant/applicable to your use case."
   ]
  },
  {
   "cell_type": "code",
   "execution_count": 37,
   "id": "c29e6156-da10-43f5-8d98-f2cda1ebe2f7",
   "metadata": {},
   "outputs": [],
   "source": [
    "from dotenv import load_dotenv\n",
    "\n",
    "config = load_dotenv()\n",
    "\n",
    "DB_CREDS = {\n",
    "    \"user\": os.environ[\"SNOW_USER\"],\n",
    "    \"password\": os.environ[\"SNOW_PASSWORD\"],\n",
    "    \"account\": os.environ[\"SNOW_ACCOUNT\"],\n",
    "    \"database\": \"SAMPLE_DATA\",\n",
    "    \"warehouse\": os.environ[\"SNOW_WAREHOUSE\"]\n",
    "}"
   ]
  },
  {
   "cell_type": "code",
   "execution_count": 38,
   "id": "d15632f6-1419-48b4-b5a6-796de487ab6f",
   "metadata": {},
   "outputs": [],
   "source": [
    "import snowflake.connector"
   ]
  },
  {
   "cell_type": "code",
   "execution_count": 39,
   "id": "ef12a398",
   "metadata": {},
   "outputs": [],
   "source": [
    "# create Snowflake Python connector\n",
    "ctx = snowflake.connector.connect(\n",
    "    user=os.environ[\"SNOW_USER\"],\n",
    "    password=os.environ[\"SNOW_PASSWORD\"],\n",
    "    account=os.environ[\"SNOW_ACCOUNT\"],\n",
    "    warehouse=os.environ[\"SNOW_WAREHOUSE\"]\n",
    ")"
   ]
  },
  {
   "cell_type": "markdown",
   "id": "bc12b4c1-5f61-46f6-8297-f2ed7915949a",
   "metadata": {},
   "source": [
    "And run some sample code to test the connection:"
   ]
  },
  {
   "cell_type": "code",
   "execution_count": 40,
   "id": "2e98bf63",
   "metadata": {},
   "outputs": [
    {
     "name": "stdout",
     "output_type": "stream",
     "text": [
      "(1, 'AAAAAAAABAAAAAAA', datetime.date(1998, 1, 1), None, None, 2450952, 'NY Metro', 'large', 597159671, 481436415, '8AM-4PM', 'Bob Belcher', 6, 'More than other authori', 'Shared others could not count fully dollars. New members ca', 'Julius Tran', 3, 'pri', 6, 'cally', '730', 'Ash Hill', 'Boulevard', 'Suite 0', 'Georgetown', 'Harmon County', 'OK', '77057', 'United States', Decimal('-6.00'), Decimal('0.11'))\n"
     ]
    }
   ],
   "source": [
    "# run sample code to test connection\n",
    "cs = ctx.cursor()\n",
    "\n",
    "schema = \"TPCDS_SF100TCL\"\n",
    "table = \"CALL_CENTER\"\n",
    "\n",
    "cs.execute(\"USE SAMPLE_DATA\")\n",
    "cs.execute(\"SELECT * FROM \" + schema + \".\" + table)\n",
    "\n",
    "one_row = str(cs.fetchone())\n",
    "\n",
    "print(one_row)"
   ]
  },
  {
   "cell_type": "markdown",
   "id": "b7c5e4b1",
   "metadata": {},
   "source": [
    "## 3. Parallel Write to Snowflake\n",
    "\n",
    "Now that we have launched our remote compute resources and tested our connection to Snowflake, let's generate some synthetic data with Dask and then write to a Snowflake database in parallel."
   ]
  },
  {
   "cell_type": "code",
   "execution_count": 41,
   "id": "868d5df8",
   "metadata": {},
   "outputs": [],
   "source": [
    "import dask"
   ]
  },
  {
   "cell_type": "code",
   "execution_count": 42,
   "id": "bbda522f",
   "metadata": {},
   "outputs": [
    {
     "data": {
      "text/plain": [
       "777600"
      ]
     },
     "execution_count": 42,
     "metadata": {},
     "output_type": "execute_result"
    }
   ],
   "source": [
    "# generate synthetic timeseries data\n",
    "ddf = dask.datasets.timeseries(\n",
    "    start=\"2021-01-01\",\n",
    "    end=\"2021-01-10\",\n",
    ")\n",
    "len(ddf)"
   ]
  },
  {
   "cell_type": "code",
   "execution_count": 43,
   "id": "f8f19d0e",
   "metadata": {},
   "outputs": [
    {
     "data": {
      "text/plain": [
       "<snowflake.connector.cursor.SnowflakeCursor at 0x7f3052124a90>"
      ]
     },
     "execution_count": 43,
     "metadata": {},
     "output_type": "execute_result"
    }
   ],
   "source": [
    "# create warehouse and database\n",
    "cs.execute(\"CREATE WAREHOUSE IF NOT EXISTS dask_snowflake_wh\")\n",
    "cs.execute(\"CREATE DATABASE IF NOT EXISTS dask_snowflake_db\")\n",
    "cs.execute(\"USE DATABASE dask_snowflake_db\")"
   ]
  },
  {
   "cell_type": "code",
   "execution_count": 45,
   "id": "d09336ae",
   "metadata": {},
   "outputs": [],
   "source": [
    "from dask_snowflake import to_snowflake"
   ]
  },
  {
   "cell_type": "code",
   "execution_count": 46,
   "id": "70368fd2",
   "metadata": {},
   "outputs": [],
   "source": [
    "connection_kwargs = {\n",
    "    \"user\": os.environ[\"SNOW_USER\"],\n",
    "    \"password\": os.environ[\"SNOW_PASSWORD\"],\n",
    "    \"account\": os.environ[\"SNOW_ACCOUNT\"],\n",
    "    \"warehouse\": os.environ[\"SNOW_WAREHOUSE\"],\n",
    "    \"database\": \"dask_snowflake_db\",\n",
    "    \"schema\": \"PUBLIC\",\n",
    "}"
   ]
  },
  {
   "cell_type": "code",
   "execution_count": 47,
   "id": "b1151bad",
   "metadata": {},
   "outputs": [
    {
     "name": "stdout",
     "output_type": "stream",
     "text": [
      "CPU times: user 11.3 s, sys: 1.35 s, total: 12.6 s\n",
      "Wall time: 1min 14s\n"
     ]
    }
   ],
   "source": [
    "%%time\n",
    "# write Dask dataframe to Snowflake in parallel\n",
    "to_snowflake(\n",
    "    ddf,\n",
    "    name=\"dask_snowflake_table\",\n",
    "    connection_kwargs=connection_kwargs,\n",
    ")"
   ]
  },
  {
   "cell_type": "markdown",
   "id": "1034a437",
   "metadata": {},
   "source": [
    "## 4. Parallel Read from Snowflake\n",
    "We can now read this data back into our Python session in parallel."
   ]
  },
  {
   "cell_type": "code",
   "execution_count": 48,
   "id": "e4dd892d",
   "metadata": {},
   "outputs": [],
   "source": [
    "from dask_snowflake import read_snowflake"
   ]
  },
  {
   "cell_type": "code",
   "execution_count": 49,
   "id": "aba8e41e",
   "metadata": {},
   "outputs": [
    {
     "name": "stdout",
     "output_type": "stream",
     "text": [
      "     ID     NAME         X         Y\n",
      "0   954   Yvonne -0.375479 -0.062307\n",
      "1   985    Edith  0.171367  0.957500\n",
      "2   975  Norbert -0.064329 -0.082382\n",
      "3  1000      Ray  0.449260 -0.091000\n",
      "4   989      Ray  0.139058  0.063518\n",
      "CPU times: user 384 ms, sys: 47.3 ms, total: 431 ms\n",
      "Wall time: 2.17 s\n"
     ]
    }
   ],
   "source": [
    "%%time\n",
    "# read data from snowflake into a Dask dataframe\n",
    "snowflake_data = read_snowflake(\n",
    "    query=\"\"\"\n",
    "      SELECT *\n",
    "      FROM dask_snowflake_table;\n",
    "   \"\"\",\n",
    "    connection_kwargs=connection_kwargs,\n",
    ")\n",
    "\n",
    "print(snowflake_data.head())"
   ]
  },
  {
   "cell_type": "code",
   "execution_count": 50,
   "id": "767517aa",
   "metadata": {},
   "outputs": [
    {
     "data": {
      "text/plain": [
       "777600"
      ]
     },
     "execution_count": 50,
     "metadata": {},
     "output_type": "execute_result"
    }
   ],
   "source": [
    "len(snowflake_data)"
   ]
  },
  {
   "cell_type": "code",
   "execution_count": 51,
   "id": "17e4f14b",
   "metadata": {},
   "outputs": [
    {
     "name": "stdout",
     "output_type": "stream",
     "text": [
      "-0.0018834459030034863\n"
     ]
    }
   ],
   "source": [
    "# perform computation over Snowflake data with Dask\n",
    "result = snowflake_data.X.mean()\n",
    "print(result.compute())"
   ]
  },
  {
   "cell_type": "markdown",
   "id": "795ce7c5",
   "metadata": {},
   "source": [
    "## 5. Machine Learning\n",
    "After loading data into our Python session from Snowflake, we can use Python for what it's good at: things like free-form, iterative exploratory analyses and complex Machine Learning models.\n",
    "\n",
    "Let's read in some data from Snowflake using the `dask-snowflake` connector and then train an XGBoost ML model on that data."
   ]
  },
  {
   "cell_type": "code",
   "execution_count": null,
   "id": "d0fce33a",
   "metadata": {},
   "outputs": [],
   "source": [
    "# define schema and query\n",
    "SCHEMA = \"SAMPLE_DATA.TPCH_SF100\"\n",
    "\n",
    "example_query=f\"\"\"\n",
    "SELECT\n",
    "    \n",
    "    C_CUSTKEY,\n",
    "    C_NAME,\n",
    "    SUM(L_QUANTITY) AS sum_qty,\n",
    "    SUM(PS_AVAILQTY) AS sum_avail_qty,\n",
    "    MAX(P_RETAILPRICE) AS max_retail_price\n",
    "    \n",
    "    FROM {SCHEMA}.CUSTOMER\n",
    "    \n",
    "        JOIN {SCHEMA}.ORDERS\n",
    "            ON C_CUSTKEY = O_CUSTKEY\n",
    "            \n",
    "            JOIN {SCHEMA}.LINEITEM\n",
    "                ON L_ORDERKEY = O_ORDERKEY\n",
    "                \n",
    "                JOIN {SCHEMA}.PART\n",
    "                    ON P_PARTKEY = L_PARTKEY\n",
    "                    \n",
    "                    JOIN {SCHEMA}.PARTSUPP\n",
    "                        ON P_PARTKEY = PS_PARTKEY\n",
    "    \n",
    "    WHERE PS_SUPPLYCOST > 10\n",
    "\n",
    "GROUP BY C_CUSTKEY, C_NAME\n",
    "\"\"\""
   ]
  },
  {
   "cell_type": "code",
   "execution_count": null,
   "id": "19f759ed",
   "metadata": {},
   "outputs": [],
   "source": [
    "# set connection parameters\n",
    "connection_kwargs = {\n",
    "    \"user\": os.environ[\"SNOW_USER\"],\n",
    "    \"password\": os.environ[\"SNOW_PASSWORD\"],\n",
    "    \"account\": os.environ[\"SNOW_ACCOUNT\"],\n",
    "    \"warehouse\": os.environ[\"SNOW_WAREHOUSE\"],\n",
    "    \"database\": \"SAMPLE_DATA\",\n",
    "    \"schema\": \"TPCH_SF100\",\n",
    "}"
   ]
  },
  {
   "cell_type": "code",
   "execution_count": null,
   "id": "8951e745",
   "metadata": {},
   "outputs": [],
   "source": [
    "%%time\n",
    "# read in data from snowflake\n",
    "ddf = read_snowflake(\n",
    "    query=example_query,\n",
    "    connection_kwargs=connection_kwargs,\n",
    ")"
   ]
  },
  {
   "cell_type": "code",
   "execution_count": null,
   "id": "ec717384",
   "metadata": {},
   "outputs": [],
   "source": [
    "import xgboost as xgb"
   ]
  },
  {
   "cell_type": "code",
   "execution_count": null,
   "id": "92848ecf",
   "metadata": {},
   "outputs": [],
   "source": [
    "# define predictor and target features\n",
    "X = ddf[['SUM_AVAIL_QTY', 'MAX_RETAIL_PRICE']]\n",
    "y = ddf.SUM_QTY"
   ]
  },
  {
   "cell_type": "code",
   "execution_count": null,
   "id": "79a00dd9",
   "metadata": {},
   "outputs": [],
   "source": [
    "# create Dask DMatrix\n",
    "dtrain = xgb.dask.DaskDMatrix(client, X, y)"
   ]
  },
  {
   "cell_type": "code",
   "execution_count": null,
   "id": "1f992a2e",
   "metadata": {},
   "outputs": [],
   "source": [
    "%%time\n",
    "# train XGBoost with Dask\n",
    "output = xgb.dask.train(\n",
    "    client,\n",
    "    {\n",
    "        'verbosity': 2,\n",
    "        'tree_method': 'hist',\n",
    "        'objective': 'reg:squarederror'\n",
    "    },\n",
    "    dtrain,\n",
    "    num_boost_round=10,\n",
    "    evals=[(dtrain, 'train')]\n",
    ")"
   ]
  },
  {
   "cell_type": "code",
   "execution_count": null,
   "id": "afdd50e5",
   "metadata": {},
   "outputs": [],
   "source": [
    "# make predictions\n",
    "y_pred = xgb.dask.predict(client, output[\"booster\"], X)\n",
    "y_pred.compute()"
   ]
  },
  {
   "cell_type": "markdown",
   "id": "7502a52f",
   "metadata": {},
   "source": [
    "For more details on how to use distributed XGBoost training with Dask, see [this blog post](https://coiled.io/blog/dask-xgboost-python-example/)."
   ]
  },
  {
   "cell_type": "markdown",
   "id": "9d2283b6",
   "metadata": {},
   "source": [
    "# Summary"
   ]
  },
  {
   "cell_type": "markdown",
   "id": "ead0280d",
   "metadata": {},
   "source": [
    "This notebook has demonstrated:\n",
    "1. How to use the `dask-snowflake` connector for fast, parallel data transfer between Snowflake and Python\n",
    "2. How to use Dask to continue manipulating the Snowflake data in a Python session, performing iterative EDA and/or machine learning tasks.\n",
    "\n",
    "Join the [Dask Discourse](https://dask.discourse.group/) to continue the conversation!"
   ]
  }
 ],
 "metadata": {
  "kernelspec": {
   "display_name": "Python 3 (ipykernel)",
   "language": "python",
   "name": "python3"
  },
  "language_info": {
   "codemirror_mode": {
    "name": "ipython",
    "version": 3
   },
   "file_extension": ".py",
   "mimetype": "text/x-python",
   "name": "python",
   "nbconvert_exporter": "python",
   "pygments_lexer": "ipython3",
   "version": "3.8.13"
  }
 },
 "nbformat": 4,
 "nbformat_minor": 5
}
