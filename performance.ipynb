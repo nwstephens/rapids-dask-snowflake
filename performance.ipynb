{
 "cells": [
  {
   "cell_type": "code",
   "execution_count": 1,
   "id": "ca928642-eac5-4efe-a48d-2949697feeaf",
   "metadata": {},
   "outputs": [],
   "source": [
    "import os\n",
    "import time\n",
    "import dask_cudf\n",
    "\n",
    "from dask.distributed import Client, wait, get_worker\n",
    "from dask_snowflake import read_snowflake\n",
    "from dask_cuda import LocalCUDACluster"
   ]
  },
  {
   "cell_type": "code",
   "execution_count": 2,
   "id": "3c376741-4e41-480a-aa23-c1f55cac8222",
   "metadata": {},
   "outputs": [
    {
     "name": "stderr",
     "output_type": "stream",
     "text": [
      "/opt/conda/envs/rapids/lib/python3.8/site-packages/distributed/node.py:180: UserWarning: Port 8787 is already in use.\n",
      "Perhaps you already have a cluster running?\n",
      "Hosting the HTTP server on port 33969 instead\n",
      "  warnings.warn(\n",
      "2022-04-28 17:36:38,612 - distributed.diskutils - INFO - Found stale lock file and directory '/rapids/notebooks/snowflake/dask-worker-space/worker-tj4ysty3', purging\n",
      "2022-04-28 17:36:38,613 - distributed.preloading - INFO - Import preload module: dask_cuda.initialize\n"
     ]
    },
    {
     "data": {
      "text/html": [
       "<div style=\"\">\n",
       "    <div>\n",
       "        <div style=\"width: 24px; height: 24px; background-color: #FFF7E5; border: 3px solid #FF6132; border-radius: 5px; position: absolute;\"> </div>\n",
       "        <div style=\"margin-left: 48px;\">\n",
       "            <h3 style=\"margin-bottom: 0px;\">Scheduler</h3>\n",
       "            <p style=\"color: #9D9D9D; margin-bottom: 0px;\">Scheduler-14b781e4-d393-42ad-b09d-29230d0877eb</p>\n",
       "            <table style=\"width: 100%; text-align: left;\">\n",
       "                <tr>\n",
       "                    <td style=\"text-align: left;\">\n",
       "                        <strong>Comm:</strong> tcp://127.0.0.1:34653\n",
       "                    </td>\n",
       "                    <td style=\"text-align: left;\">\n",
       "                        <strong>Workers:</strong> 1\n",
       "                    </td>\n",
       "                </tr>\n",
       "                <tr>\n",
       "                    <td style=\"text-align: left;\">\n",
       "                        <strong>Dashboard:</strong> <a href=\"http://127.0.0.1:33969/status\" target=\"_blank\">http://127.0.0.1:33969/status</a>\n",
       "                    </td>\n",
       "                    <td style=\"text-align: left;\">\n",
       "                        <strong>Total threads:</strong> 8\n",
       "                    </td>\n",
       "                </tr>\n",
       "                <tr>\n",
       "                    <td style=\"text-align: left;\">\n",
       "                        <strong>Started:</strong> Just now\n",
       "                    </td>\n",
       "                    <td style=\"text-align: left;\">\n",
       "                        <strong>Total memory:</strong> 503.53 GiB\n",
       "                    </td>\n",
       "                </tr>\n",
       "            </table>\n",
       "        </div>\n",
       "    </div>\n",
       "\n",
       "    <details style=\"margin-left: 48px;\">\n",
       "        <summary style=\"margin-bottom: 20px;\">\n",
       "            <h3 style=\"display: inline;\">Workers</h3>\n",
       "        </summary>\n",
       "\n",
       "        \n",
       "        <div style=\"margin-bottom: 20px;\">\n",
       "            <div style=\"width: 24px; height: 24px; background-color: #DBF5FF; border: 3px solid #4CC9FF; border-radius: 5px; position: absolute;\"> </div>\n",
       "            <div style=\"margin-left: 48px;\">\n",
       "            <details>\n",
       "                <summary>\n",
       "                    <h4 style=\"margin-bottom: 0px; display: inline;\">Worker: 0</h4>\n",
       "                </summary>\n",
       "                <table style=\"width: 100%; text-align: left;\">\n",
       "                    <tr>\n",
       "                        <td style=\"text-align: left;\">\n",
       "                            <strong>Comm: </strong> tcp://127.0.0.1:35061\n",
       "                        </td>\n",
       "                        <td style=\"text-align: left;\">\n",
       "                            <strong>Total threads: </strong> 8\n",
       "                        </td>\n",
       "                    </tr>\n",
       "                    <tr>\n",
       "                        <td style=\"text-align: left;\">\n",
       "                            <strong>Dashboard: </strong> <a href=\"http://127.0.0.1:35023/status\" target=\"_blank\">http://127.0.0.1:35023/status</a>\n",
       "                        </td>\n",
       "                        <td style=\"text-align: left;\">\n",
       "                            <strong>Memory: </strong> 503.53 GiB\n",
       "                        </td>\n",
       "                    </tr>\n",
       "                    <tr>\n",
       "                        <td style=\"text-align: left;\">\n",
       "                            <strong>Nanny: </strong> tcp://127.0.0.1:40161\n",
       "                        </td>\n",
       "                        <td style=\"text-align: left;\"></td>\n",
       "                    </tr>\n",
       "                    <tr>\n",
       "                        <td colspan=\"2\" style=\"text-align: left;\">\n",
       "                            <strong>Local directory: </strong> /rapids/notebooks/snowflake/dask-worker-space/worker-wkeovr2d\n",
       "                        </td>\n",
       "                    </tr>\n",
       "\n",
       "                    \n",
       "                    <tr>\n",
       "                        <td style=\"text-align: left;\">\n",
       "                            <strong>GPU: </strong>NVIDIA RTX A6000\n",
       "                        </td>\n",
       "                        <td style=\"text-align: left;\">\n",
       "                            <strong>GPU memory: </strong> 47.99 GiB\n",
       "                        </td>\n",
       "                    </tr>\n",
       "                    \n",
       "\n",
       "                    \n",
       "                    <tr>\n",
       "                        <td style=\"text-align: left;\">\n",
       "                            <strong>Tasks executing: </strong> 0\n",
       "                        </td>\n",
       "                        <td style=\"text-align: left;\">\n",
       "                            <strong>Tasks in memory: </strong> 0\n",
       "                        </td>\n",
       "                    </tr>\n",
       "                    <tr>\n",
       "                        <td style=\"text-align: left;\">\n",
       "                            <strong>Tasks ready: </strong> 0\n",
       "                        </td>\n",
       "                        <td style=\"text-align: left;\">\n",
       "                            <strong>Tasks in flight: </strong>0\n",
       "                        </td>\n",
       "                    </tr>\n",
       "                    <tr>\n",
       "                        <td style=\"text-align: left;\">\n",
       "                            <strong>CPU usage:</strong> 0.0%\n",
       "                        </td>\n",
       "                        <td style=\"text-align: left;\">\n",
       "                            <strong>Last seen: </strong> Just now\n",
       "                        </td>\n",
       "                    </tr>\n",
       "                    <tr>\n",
       "                        <td style=\"text-align: left;\">\n",
       "                            <strong>Memory usage: </strong> 223.23 MiB\n",
       "                        </td>\n",
       "                        <td style=\"text-align: left;\">\n",
       "                            <strong>Spilled bytes: </strong> 0 B\n",
       "                        </td>\n",
       "                    </tr>\n",
       "                    <tr>\n",
       "                        <td style=\"text-align: left;\">\n",
       "                            <strong>Read bytes: </strong> 0.0 B\n",
       "                        </td>\n",
       "                        <td style=\"text-align: left;\">\n",
       "                            <strong>Write bytes: </strong> 0.0 B\n",
       "                        </td>\n",
       "                    </tr>\n",
       "                    \n",
       "\n",
       "                </table>\n",
       "            </details>\n",
       "            </div>\n",
       "        </div>\n",
       "        \n",
       "\n",
       "    </details>\n",
       "</div>"
      ],
      "text/plain": [
       "{'type': 'Scheduler',\n",
       " 'id': 'Scheduler-14b781e4-d393-42ad-b09d-29230d0877eb',\n",
       " 'address': 'tcp://127.0.0.1:34653',\n",
       " 'services': {'dashboard': 33969},\n",
       " 'started': 1651167397.2721257,\n",
       " 'workers': {'tcp://127.0.0.1:35061': {'type': 'Worker',\n",
       "   'id': 0,\n",
       "   'host': '127.0.0.1',\n",
       "   'resources': {},\n",
       "   'local_directory': '/rapids/notebooks/snowflake/dask-worker-space/worker-wkeovr2d',\n",
       "   'name': 0,\n",
       "   'nthreads': 8,\n",
       "   'memory_limit': 540656029696,\n",
       "   'last_seen': 1651167398.8078148,\n",
       "   'services': {'dashboard': 35023},\n",
       "   'metrics': {'executing': 0,\n",
       "    'in_memory': 0,\n",
       "    'ready': 0,\n",
       "    'in_flight': 0,\n",
       "    'bandwidth': {'total': 100000000, 'workers': {}, 'types': {}},\n",
       "    'spilled_nbytes': {'memory': 0, 'disk': 0},\n",
       "    'cpu': 0.0,\n",
       "    'memory': 234074112,\n",
       "    'time': 1651167398.621196,\n",
       "    'read_bytes': 0.0,\n",
       "    'write_bytes': 0.0,\n",
       "    'read_bytes_disk': 0.0,\n",
       "    'write_bytes_disk': 0.0,\n",
       "    'num_fds': 26,\n",
       "    'gpu_utilization': 0,\n",
       "    'gpu_memory_used': 8725659648,\n",
       "    'gpu': {'utilization': 2, 'memory-used': 8995143680}},\n",
       "   'nanny': 'tcp://127.0.0.1:40161',\n",
       "   'gpu': {'memory-total': 51527024640, 'name': 'NVIDIA RTX A6000'}}}}"
      ]
     },
     "execution_count": 2,
     "metadata": {},
     "output_type": "execute_result"
    }
   ],
   "source": [
    "cluster = LocalCUDACluster(threads_per_worker=8, n_workers=1)\n",
    "client = Client(cluster)\n",
    "client.scheduler_info()"
   ]
  },
  {
   "cell_type": "code",
   "execution_count": 3,
   "id": "0fbbc2e2-7119-4d3a-aed9-2a0412a7b9e4",
   "metadata": {},
   "outputs": [],
   "source": [
    "from dotenv import load_dotenv\n",
    "\n",
    "config = load_dotenv()\n",
    "\n",
    "DB_CREDS = {\n",
    "    \"user\": os.environ[\"SNOW_USER\"],\n",
    "    \"password\": os.environ[\"SNOW_PASSWORD\"],\n",
    "    \"account\": os.environ[\"SNOW_ACCOUNT\"],\n",
    "    \"database\": \"SAMPLE_DATA\",\n",
    "    \"warehouse\": os.environ[\"SNOW_WAREHOUSE\"]\n",
    "}\n",
    "\n",
    "QUERY = \"\"\"\n",
    "SELECT \n",
    "    ss.SS_ITEM_SK, ss.SS_STORE_SK, s.S_STATE,\n",
    "    d.D_DATE, ss.SS_QUANTITY, ss.SS_EXT_WHOLESALE_COST, \n",
    "    ss.SS_EXT_LIST_PRICE, ss.SS_NET_PROFIT  \n",
    "FROM \n",
    "    SAMPLE_DATA.TPCDS_SF100TCL.STORE_SALES ss, \n",
    "    SAMPLE_DATA.TPCDS_SF100TCL.STORE s,\n",
    "    SAMPLE_DATA.TPCDS_SF100TCL.DATE_DIM d\n",
    "WHERE \n",
    "    ss.SS_STORE_SK = s.S_STORE_SK and\n",
    "    ss.SS_SOLD_DATE_SK = d.D_DATE_SK\n",
    "LIMIT 10000000\n",
    "\"\"\""
   ]
  },
  {
   "cell_type": "code",
   "execution_count": 4,
   "id": "17f021e5-c050-47e9-8a52-54f4482fc1f2",
   "metadata": {},
   "outputs": [
    {
     "data": {
      "text/plain": [
       "2.1030046939849854"
      ]
     },
     "execution_count": 4,
     "metadata": {},
     "output_type": "execute_result"
    }
   ],
   "source": [
    "t1 = time.time()\n",
    "ddf = read_snowflake(\n",
    "    query=QUERY,\n",
    "    connection_kwargs=DB_CREDS\n",
    ")\n",
    "t2 = time.time()\n",
    "t2 - t1"
   ]
  },
  {
   "cell_type": "code",
   "execution_count": 5,
   "id": "d0bcd2cb-e059-4527-954e-cc12ca884831",
   "metadata": {},
   "outputs": [
    {
     "data": {
      "text/plain": [
       "16.334730625152588"
      ]
     },
     "execution_count": 5,
     "metadata": {},
     "output_type": "execute_result"
    }
   ],
   "source": [
    "t1 = time.time()\n",
    "len(ddf)\n",
    "t2 = time.time()\n",
    "t2 - t1"
   ]
  },
  {
   "cell_type": "code",
   "execution_count": 6,
   "id": "e60f8a59-87b2-4f23-9d52-db729ed29ca4",
   "metadata": {},
   "outputs": [
    {
     "data": {
      "text/plain": [
       "0.599092960357666"
      ]
     },
     "execution_count": 6,
     "metadata": {},
     "output_type": "execute_result"
    }
   ],
   "source": [
    "t1 = time.time()\n",
    "ddf = dask_cudf.from_dask_dataframe(ddf)\n",
    "t2 = time.time()\n",
    "t2 - t1"
   ]
  },
  {
   "cell_type": "code",
   "execution_count": 7,
   "id": "53a9c707-4d58-4ad0-9332-1b04ea38f0de",
   "metadata": {},
   "outputs": [
    {
     "data": {
      "text/plain": [
       "23.459553480148315"
      ]
     },
     "execution_count": 7,
     "metadata": {},
     "output_type": "execute_result"
    }
   ],
   "source": [
    "t1 = time.time()\n",
    "len(ddf)\n",
    "t2 = time.time()\n",
    "t2 - t1"
   ]
  },
  {
   "cell_type": "code",
   "execution_count": null,
   "id": "da291371-c228-4030-b281-6677e7f7b904",
   "metadata": {},
   "outputs": [],
   "source": []
  }
 ],
 "metadata": {
  "kernelspec": {
   "display_name": "Python 3 (ipykernel)",
   "language": "python",
   "name": "python3"
  },
  "language_info": {
   "codemirror_mode": {
    "name": "ipython",
    "version": 3
   },
   "file_extension": ".py",
   "mimetype": "text/x-python",
   "name": "python",
   "nbconvert_exporter": "python",
   "pygments_lexer": "ipython3",
   "version": "3.8.13"
  }
 },
 "nbformat": 4,
 "nbformat_minor": 5
}
