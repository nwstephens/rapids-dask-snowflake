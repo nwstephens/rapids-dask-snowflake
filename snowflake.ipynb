{
 "cells": [
  {
   "cell_type": "code",
   "execution_count": 28,
   "id": "0f8ea1b4-d21e-4dd9-b79c-182ad1e3b2bb",
   "metadata": {},
   "outputs": [],
   "source": [
    "USE_GPU = True"
   ]
  },
  {
   "cell_type": "code",
   "execution_count": 29,
   "id": "12cc20c9-9f0d-4ac7-8164-6bda0fa132e4",
   "metadata": {},
   "outputs": [],
   "source": [
    "import os\n",
    "import time\n",
    "\n",
    "from dask.distributed import Client, wait, get_worker\n",
    "\n",
    "from dask_snowflake import read_snowflake\n",
    "\n",
    "if USE_GPU:\n",
    "    from dask_cuda import LocalCUDACluster\n",
    "    from cuml.metrics import mean_squared_error\n",
    "    from cuml.dask.preprocessing import LabelEncoder\n",
    "    from cuml import ForestInference\n",
    "    import dask_cudf\n",
    "\n",
    "else:\n",
    "    from dask.distributed import LocalCluster\n",
    "    from sklearn.metrics import mean_squared_error\n",
    "    from dask_ml.preprocessing import LabelEncoder"
   ]
  },
  {
   "cell_type": "markdown",
   "id": "17b160b0-658f-4ccc-886a-4acf60ee95b7",
   "metadata": {},
   "source": [
    "### Step 1: Startup a Dask Cluster\n",
    "\n",
    "We can startup a dask cluster using the `LocalCluster` or `LocalCUDACluster` api (for GPUs) to enable distributed compute using Dask. Alternatively the cluster could be setup [manually](https://docs.rapids.ai/api/dask-cuda/nightly/quickstart.html#dask-cuda-worker) outside of this script and we can connect to it directly. (This approach is more useful when setting up multi-node clusters)"
   ]
  },
  {
   "cell_type": "code",
   "execution_count": 30,
   "id": "5e5f818f-0dc8-46c9-a695-b6be77838041",
   "metadata": {},
   "outputs": [
    {
     "name": "stderr",
     "output_type": "stream",
     "text": [
      "/opt/conda/envs/rapids/lib/python3.8/site-packages/distributed/node.py:180: UserWarning: Port 8787 is already in use.\n",
      "Perhaps you already have a cluster running?\n",
      "Hosting the HTTP server on port 42311 instead\n",
      "  warnings.warn(\n",
      "2022-04-28 17:23:57,918 - distributed.preloading - INFO - Import preload module: dask_cuda.initialize\n",
      "2022-04-28 17:23:57,919 - distributed.preloading - INFO - Import preload module: dask_cuda.initialize\n"
     ]
    }
   ],
   "source": [
    "TPW = 8 \n",
    "\n",
    "if USE_GPU:\n",
    "    cluster = LocalCUDACluster(threads_per_worker=TPW)\n",
    "else:\n",
    "    cluster = LocalCluster(threads_per_worker=TPW)\n",
    "\n",
    "client = Client(cluster)\n",
    "\n",
    "\n",
    "num_workers = len(client.scheduler_info()[\"workers\"])"
   ]
  },
  {
   "cell_type": "code",
   "execution_count": 31,
   "id": "e8adaedc-da50-4d0f-8d13-0e7faa55f760",
   "metadata": {},
   "outputs": [
    {
     "name": "stdout",
     "output_type": "stream",
     "text": [
      "<Client: 'tcp://127.0.0.1:33243' processes=2 threads=16, memory=0.98 TiB>\n"
     ]
    }
   ],
   "source": [
    "print(client)"
   ]
  },
  {
   "cell_type": "code",
   "execution_count": 45,
   "id": "af0489d1-1b23-451a-82c5-f1dee25b0d82",
   "metadata": {},
   "outputs": [
    {
     "data": {
      "text/html": [
       "<div style=\"\">\n",
       "    <div>\n",
       "        <div style=\"width: 24px; height: 24px; background-color: #FFF7E5; border: 3px solid #FF6132; border-radius: 5px; position: absolute;\"> </div>\n",
       "        <div style=\"margin-left: 48px;\">\n",
       "            <h3 style=\"margin-bottom: 0px;\">Scheduler</h3>\n",
       "            <p style=\"color: #9D9D9D; margin-bottom: 0px;\">Scheduler-a7003f52-cf73-435f-b5a4-97e032dae7c9</p>\n",
       "            <table style=\"width: 100%; text-align: left;\">\n",
       "                <tr>\n",
       "                    <td style=\"text-align: left;\">\n",
       "                        <strong>Comm:</strong> tcp://127.0.0.1:33243\n",
       "                    </td>\n",
       "                    <td style=\"text-align: left;\">\n",
       "                        <strong>Workers:</strong> 2\n",
       "                    </td>\n",
       "                </tr>\n",
       "                <tr>\n",
       "                    <td style=\"text-align: left;\">\n",
       "                        <strong>Dashboard:</strong> <a href=\"http://127.0.0.1:42311/status\" target=\"_blank\">http://127.0.0.1:42311/status</a>\n",
       "                    </td>\n",
       "                    <td style=\"text-align: left;\">\n",
       "                        <strong>Total threads:</strong> 16\n",
       "                    </td>\n",
       "                </tr>\n",
       "                <tr>\n",
       "                    <td style=\"text-align: left;\">\n",
       "                        <strong>Started:</strong> 3 minutes ago\n",
       "                    </td>\n",
       "                    <td style=\"text-align: left;\">\n",
       "                        <strong>Total memory:</strong> 0.98 TiB\n",
       "                    </td>\n",
       "                </tr>\n",
       "            </table>\n",
       "        </div>\n",
       "    </div>\n",
       "\n",
       "    <details style=\"margin-left: 48px;\">\n",
       "        <summary style=\"margin-bottom: 20px;\">\n",
       "            <h3 style=\"display: inline;\">Workers</h3>\n",
       "        </summary>\n",
       "\n",
       "        \n",
       "        <div style=\"margin-bottom: 20px;\">\n",
       "            <div style=\"width: 24px; height: 24px; background-color: #DBF5FF; border: 3px solid #4CC9FF; border-radius: 5px; position: absolute;\"> </div>\n",
       "            <div style=\"margin-left: 48px;\">\n",
       "            <details>\n",
       "                <summary>\n",
       "                    <h4 style=\"margin-bottom: 0px; display: inline;\">Worker: 0</h4>\n",
       "                </summary>\n",
       "                <table style=\"width: 100%; text-align: left;\">\n",
       "                    <tr>\n",
       "                        <td style=\"text-align: left;\">\n",
       "                            <strong>Comm: </strong> tcp://127.0.0.1:44577\n",
       "                        </td>\n",
       "                        <td style=\"text-align: left;\">\n",
       "                            <strong>Total threads: </strong> 8\n",
       "                        </td>\n",
       "                    </tr>\n",
       "                    <tr>\n",
       "                        <td style=\"text-align: left;\">\n",
       "                            <strong>Dashboard: </strong> <a href=\"http://127.0.0.1:37933/status\" target=\"_blank\">http://127.0.0.1:37933/status</a>\n",
       "                        </td>\n",
       "                        <td style=\"text-align: left;\">\n",
       "                            <strong>Memory: </strong> 503.53 GiB\n",
       "                        </td>\n",
       "                    </tr>\n",
       "                    <tr>\n",
       "                        <td style=\"text-align: left;\">\n",
       "                            <strong>Nanny: </strong> tcp://127.0.0.1:42067\n",
       "                        </td>\n",
       "                        <td style=\"text-align: left;\"></td>\n",
       "                    </tr>\n",
       "                    <tr>\n",
       "                        <td colspan=\"2\" style=\"text-align: left;\">\n",
       "                            <strong>Local directory: </strong> /rapids/notebooks/snowflake/dask-worker-space/worker-oefxzlt6\n",
       "                        </td>\n",
       "                    </tr>\n",
       "\n",
       "                    \n",
       "                    <tr>\n",
       "                        <td style=\"text-align: left;\">\n",
       "                            <strong>GPU: </strong>NVIDIA RTX A6000\n",
       "                        </td>\n",
       "                        <td style=\"text-align: left;\">\n",
       "                            <strong>GPU memory: </strong> 47.99 GiB\n",
       "                        </td>\n",
       "                    </tr>\n",
       "                    \n",
       "\n",
       "                    \n",
       "                    <tr>\n",
       "                        <td style=\"text-align: left;\">\n",
       "                            <strong>Tasks executing: </strong> 0\n",
       "                        </td>\n",
       "                        <td style=\"text-align: left;\">\n",
       "                            <strong>Tasks in memory: </strong> 4\n",
       "                        </td>\n",
       "                    </tr>\n",
       "                    <tr>\n",
       "                        <td style=\"text-align: left;\">\n",
       "                            <strong>Tasks ready: </strong> 0\n",
       "                        </td>\n",
       "                        <td style=\"text-align: left;\">\n",
       "                            <strong>Tasks in flight: </strong>0\n",
       "                        </td>\n",
       "                    </tr>\n",
       "                    <tr>\n",
       "                        <td style=\"text-align: left;\">\n",
       "                            <strong>CPU usage:</strong> 0.0%\n",
       "                        </td>\n",
       "                        <td style=\"text-align: left;\">\n",
       "                            <strong>Last seen: </strong> Just now\n",
       "                        </td>\n",
       "                    </tr>\n",
       "                    <tr>\n",
       "                        <td style=\"text-align: left;\">\n",
       "                            <strong>Memory usage: </strong> 3.06 GiB\n",
       "                        </td>\n",
       "                        <td style=\"text-align: left;\">\n",
       "                            <strong>Spilled bytes: </strong> 0 B\n",
       "                        </td>\n",
       "                    </tr>\n",
       "                    <tr>\n",
       "                        <td style=\"text-align: left;\">\n",
       "                            <strong>Read bytes: </strong> 71.16 kiB\n",
       "                        </td>\n",
       "                        <td style=\"text-align: left;\">\n",
       "                            <strong>Write bytes: </strong> 28.88 kiB\n",
       "                        </td>\n",
       "                    </tr>\n",
       "                    \n",
       "\n",
       "                </table>\n",
       "            </details>\n",
       "            </div>\n",
       "        </div>\n",
       "        \n",
       "        <div style=\"margin-bottom: 20px;\">\n",
       "            <div style=\"width: 24px; height: 24px; background-color: #DBF5FF; border: 3px solid #4CC9FF; border-radius: 5px; position: absolute;\"> </div>\n",
       "            <div style=\"margin-left: 48px;\">\n",
       "            <details>\n",
       "                <summary>\n",
       "                    <h4 style=\"margin-bottom: 0px; display: inline;\">Worker: 1</h4>\n",
       "                </summary>\n",
       "                <table style=\"width: 100%; text-align: left;\">\n",
       "                    <tr>\n",
       "                        <td style=\"text-align: left;\">\n",
       "                            <strong>Comm: </strong> tcp://127.0.0.1:37013\n",
       "                        </td>\n",
       "                        <td style=\"text-align: left;\">\n",
       "                            <strong>Total threads: </strong> 8\n",
       "                        </td>\n",
       "                    </tr>\n",
       "                    <tr>\n",
       "                        <td style=\"text-align: left;\">\n",
       "                            <strong>Dashboard: </strong> <a href=\"http://127.0.0.1:35289/status\" target=\"_blank\">http://127.0.0.1:35289/status</a>\n",
       "                        </td>\n",
       "                        <td style=\"text-align: left;\">\n",
       "                            <strong>Memory: </strong> 503.53 GiB\n",
       "                        </td>\n",
       "                    </tr>\n",
       "                    <tr>\n",
       "                        <td style=\"text-align: left;\">\n",
       "                            <strong>Nanny: </strong> tcp://127.0.0.1:35977\n",
       "                        </td>\n",
       "                        <td style=\"text-align: left;\"></td>\n",
       "                    </tr>\n",
       "                    <tr>\n",
       "                        <td colspan=\"2\" style=\"text-align: left;\">\n",
       "                            <strong>Local directory: </strong> /rapids/notebooks/snowflake/dask-worker-space/worker-_ur4glp9\n",
       "                        </td>\n",
       "                    </tr>\n",
       "\n",
       "                    \n",
       "                    <tr>\n",
       "                        <td style=\"text-align: left;\">\n",
       "                            <strong>GPU: </strong>NVIDIA RTX A6000\n",
       "                        </td>\n",
       "                        <td style=\"text-align: left;\">\n",
       "                            <strong>GPU memory: </strong> 47.99 GiB\n",
       "                        </td>\n",
       "                    </tr>\n",
       "                    \n",
       "\n",
       "                    \n",
       "                    <tr>\n",
       "                        <td style=\"text-align: left;\">\n",
       "                            <strong>Tasks executing: </strong> 0\n",
       "                        </td>\n",
       "                        <td style=\"text-align: left;\">\n",
       "                            <strong>Tasks in memory: </strong> 4\n",
       "                        </td>\n",
       "                    </tr>\n",
       "                    <tr>\n",
       "                        <td style=\"text-align: left;\">\n",
       "                            <strong>Tasks ready: </strong> 0\n",
       "                        </td>\n",
       "                        <td style=\"text-align: left;\">\n",
       "                            <strong>Tasks in flight: </strong>0\n",
       "                        </td>\n",
       "                    </tr>\n",
       "                    <tr>\n",
       "                        <td style=\"text-align: left;\">\n",
       "                            <strong>CPU usage:</strong> 2.0%\n",
       "                        </td>\n",
       "                        <td style=\"text-align: left;\">\n",
       "                            <strong>Last seen: </strong> Just now\n",
       "                        </td>\n",
       "                    </tr>\n",
       "                    <tr>\n",
       "                        <td style=\"text-align: left;\">\n",
       "                            <strong>Memory usage: </strong> 3.11 GiB\n",
       "                        </td>\n",
       "                        <td style=\"text-align: left;\">\n",
       "                            <strong>Spilled bytes: </strong> 0 B\n",
       "                        </td>\n",
       "                    </tr>\n",
       "                    <tr>\n",
       "                        <td style=\"text-align: left;\">\n",
       "                            <strong>Read bytes: </strong> 71.04 kiB\n",
       "                        </td>\n",
       "                        <td style=\"text-align: left;\">\n",
       "                            <strong>Write bytes: </strong> 28.83 kiB\n",
       "                        </td>\n",
       "                    </tr>\n",
       "                    \n",
       "\n",
       "                </table>\n",
       "            </details>\n",
       "            </div>\n",
       "        </div>\n",
       "        \n",
       "\n",
       "    </details>\n",
       "</div>"
      ],
      "text/plain": [
       "{'type': 'Scheduler',\n",
       " 'id': 'Scheduler-a7003f52-cf73-435f-b5a4-97e032dae7c9',\n",
       " 'address': 'tcp://127.0.0.1:33243',\n",
       " 'services': {'dashboard': 42311},\n",
       " 'started': 1651166636.8639684,\n",
       " 'workers': {'tcp://127.0.0.1:37013': {'type': 'Worker',\n",
       "   'id': 1,\n",
       "   'host': '127.0.0.1',\n",
       "   'resources': {},\n",
       "   'local_directory': '/rapids/notebooks/snowflake/dask-worker-space/worker-_ur4glp9',\n",
       "   'name': 1,\n",
       "   'nthreads': 8,\n",
       "   'memory_limit': 540656029696,\n",
       "   'last_seen': 1651166867.70832,\n",
       "   'services': {'dashboard': 35289},\n",
       "   'metrics': {'executing': 0,\n",
       "    'in_memory': 4,\n",
       "    'ready': 0,\n",
       "    'in_flight': 0,\n",
       "    'bandwidth': {'total': 100000000, 'workers': {}, 'types': {}},\n",
       "    'spilled_nbytes': {'memory': 0, 'disk': 0},\n",
       "    'cpu': 2.0,\n",
       "    'memory': 3338899456,\n",
       "    'time': 1651166867.2068734,\n",
       "    'read_bytes': 72744.6909700825,\n",
       "    'write_bytes': 29526.127074322736,\n",
       "    'read_bytes_disk': 0.0,\n",
       "    'write_bytes_disk': 2609900.301877951,\n",
       "    'num_fds': 72,\n",
       "    'gpu_utilization': 0,\n",
       "    'gpu_memory_used': 4549246976,\n",
       "    'gpu': {'utilization': 0, 'memory-used': 4549246976}},\n",
       "   'nanny': 'tcp://127.0.0.1:35977',\n",
       "   'gpu': {'memory-total': 51527024640, 'name': 'NVIDIA RTX A6000'}},\n",
       "  'tcp://127.0.0.1:44577': {'type': 'Worker',\n",
       "   'id': 0,\n",
       "   'host': '127.0.0.1',\n",
       "   'resources': {},\n",
       "   'local_directory': '/rapids/notebooks/snowflake/dask-worker-space/worker-oefxzlt6',\n",
       "   'name': 0,\n",
       "   'nthreads': 8,\n",
       "   'memory_limit': 540656029696,\n",
       "   'last_seen': 1651166867.228722,\n",
       "   'services': {'dashboard': 37933},\n",
       "   'metrics': {'executing': 0,\n",
       "    'in_memory': 4,\n",
       "    'ready': 0,\n",
       "    'in_flight': 0,\n",
       "    'bandwidth': {'total': 103844506.34315406, 'workers': {}, 'types': {}},\n",
       "    'spilled_nbytes': {'memory': 0, 'disk': 0},\n",
       "    'cpu': 0.0,\n",
       "    'memory': 3287248896,\n",
       "    'time': 1651166867.2258341,\n",
       "    'read_bytes': 72866.66506513536,\n",
       "    'write_bytes': 29575.634778352804,\n",
       "    'read_bytes_disk': 0.0,\n",
       "    'write_bytes_disk': 2614276.4319192567,\n",
       "    'num_fds': 72,\n",
       "    'gpu_utilization': 0,\n",
       "    'gpu_memory_used': 9460121600,\n",
       "    'gpu': {'utilization': 0, 'memory-used': 9460121600}},\n",
       "   'nanny': 'tcp://127.0.0.1:42067',\n",
       "   'gpu': {'memory-total': 51527024640, 'name': 'NVIDIA RTX A6000'}}}}"
      ]
     },
     "execution_count": 45,
     "metadata": {},
     "output_type": "execute_result"
    }
   ],
   "source": [
    "client.scheduler_info()"
   ]
  },
  {
   "cell_type": "markdown",
   "id": "5d7e0a6a-77b0-4004-956e-24ee99be824f",
   "metadata": {},
   "source": [
    "### Step 2: Use `dask_snowflake` to authenticate and execute a query on the Snowflake engine. \n",
    "\n",
    "`dask_snowflake` returns a dask dataframe which is lazy by nature. This means that it does not read the data from the cloud unless any specific operation requires it to be computed.  \n",
    "\n",
    "\n",
    "Here we have a simple query that reads a few tables from the snowflake sample database and joins on a few keys"
   ]
  },
  {
   "cell_type": "code",
   "execution_count": 32,
   "id": "fea4a1a4-f086-4d25-bf28-fccf6734f5dc",
   "metadata": {},
   "outputs": [],
   "source": [
    "from dotenv import load_dotenv\n",
    "\n",
    "config = load_dotenv()\n",
    "\n",
    "DB_CREDS = {\n",
    "    \"user\": os.environ[\"SNOW_USER\"],\n",
    "    \"password\": os.environ[\"SNOW_PASSWORD\"],\n",
    "    \"account\": os.environ[\"SNOW_ACCOUNT\"],\n",
    "    \"database\": \"SAMPLE_DATA\",\n",
    "    \"warehouse\": os.environ[\"SNOW_WAREHOUSE\"]\n",
    "}\n",
    "\n",
    "QUERY = \"\"\"\n",
    "SELECT \n",
    "    ss.SS_ITEM_SK, ss.SS_STORE_SK, s.S_STATE,\n",
    "    d.D_DATE, ss.SS_QUANTITY, ss.SS_EXT_WHOLESALE_COST, \n",
    "    ss.SS_EXT_LIST_PRICE, ss.SS_NET_PROFIT  \n",
    "FROM \n",
    "    SAMPLE_DATA.TPCDS_SF100TCL.STORE_SALES ss, \n",
    "    SAMPLE_DATA.TPCDS_SF100TCL.STORE s,\n",
    "    SAMPLE_DATA.TPCDS_SF100TCL.DATE_DIM d\n",
    "WHERE \n",
    "    ss.SS_STORE_SK = s.S_STORE_SK and\n",
    "    ss.SS_SOLD_DATE_SK = d.D_DATE_SK\n",
    "LIMIT 1000000\n",
    "\"\"\""
   ]
  },
  {
   "cell_type": "markdown",
   "id": "babb52ec-9655-46ab-9c9c-e368df94243e",
   "metadata": {
    "tags": []
   },
   "source": [
    "#### Use dask_snowflake to read from snowflake into a dask dataframe"
   ]
  },
  {
   "cell_type": "code",
   "execution_count": 33,
   "id": "29fea540-dccc-43d6-8952-003049bbf925",
   "metadata": {},
   "outputs": [],
   "source": [
    "ddf = read_snowflake(\n",
    "    query=QUERY,\n",
    "    connection_kwargs=DB_CREDS\n",
    ")"
   ]
  },
  {
   "cell_type": "markdown",
   "id": "ac674bd8-ba9f-4d36-a81f-8cce1be8b7a7",
   "metadata": {},
   "source": [
    "#### Convert cpu backed dask dataframes to gpu dask_cudf dataframes"
   ]
  },
  {
   "cell_type": "code",
   "execution_count": 34,
   "id": "f5380696-3897-4cbb-8031-092f06b54b3a",
   "metadata": {},
   "outputs": [],
   "source": [
    "if USE_GPU:\n",
    "    ddf = dask_cudf.from_dask_dataframe(ddf)\n",
    "    ddf = ddf.repartition(npartitions=num_workers*2)"
   ]
  },
  {
   "cell_type": "markdown",
   "id": "b5656b6b-cea8-4583-948b-07d6750a8daf",
   "metadata": {},
   "source": [
    "### Step 3: Preprocessing\n",
    "\n",
    "We can now proceed to cleanup our data and generate features that can be used for training an xgBoost model"
   ]
  },
  {
   "cell_type": "code",
   "execution_count": 35,
   "id": "ed9c03d1-52b5-415e-9f93-6dc924eccec4",
   "metadata": {},
   "outputs": [
    {
     "name": "stdout",
     "output_type": "stream",
     "text": [
      "SS_ITEM_SK                int64\n",
      "SS_STORE_SK               int64\n",
      "S_STATE                  object\n",
      "D_DATE                   object\n",
      "SS_QUANTITY               int64\n",
      "SS_EXT_WHOLESALE_COST     int64\n",
      "SS_EXT_LIST_PRICE         int64\n",
      "SS_NET_PROFIT             int64\n",
      "dtype: object\n"
     ]
    }
   ],
   "source": [
    "ddf = ddf.dropna()\n",
    "print(ddf.dtypes)"
   ]
  },
  {
   "cell_type": "markdown",
   "id": "793e7c87-cb08-4dbb-8a26-b51a4c2c2eaf",
   "metadata": {},
   "source": [
    "Inspecting the dtypes shows that the date column is treated as an object (most likely a string).\n",
    "We can easily cast that to a datetime dtype that'll help enable more datetime operations downstream."
   ]
  },
  {
   "cell_type": "code",
   "execution_count": 36,
   "id": "7313bf68-5e1e-450d-b643-7c926af7a61d",
   "metadata": {},
   "outputs": [],
   "source": [
    "ddf[\"D_DATE\"] = ddf[\"D_DATE\"].astype(\"datetime64[s]\")"
   ]
  },
  {
   "cell_type": "markdown",
   "id": "052c2c24-53f6-4dea-8a9b-4062869e3837",
   "metadata": {},
   "source": [
    "The dataframe contains store sales made across the years 1998 and 1999.\n",
    "Let's take all the sales made in 1998 and try to train a model that'll predict the `net_profit` given certain features like `quantity`, `wholesale_cost` etc. "
   ]
  },
  {
   "cell_type": "markdown",
   "id": "035dd0a2-34cf-42c2-9f24-340e643a87d2",
   "metadata": {},
   "source": [
    "The cell below triggers a computation since we `persist` the data from 1998 on our dask workers. This step pulls the result set from snowflake onto the workers."
   ]
  },
  {
   "cell_type": "code",
   "execution_count": 37,
   "id": "2c65e4d8-9b68-4e1d-9387-146082869c21",
   "metadata": {},
   "outputs": [
    {
     "name": "stdout",
     "output_type": "stream",
     "text": [
      "241073\n"
     ]
    }
   ],
   "source": [
    "ddf_1998 = ddf[ddf.D_DATE.dt.year == 1998]\n",
    "ddf_1998 = ddf_1998.persist()\n",
    "wait(ddf_1998)\n",
    "print(len(ddf_1998))"
   ]
  },
  {
   "cell_type": "markdown",
   "id": "61203829-6aff-4d84-937b-1e6f6f991796",
   "metadata": {},
   "source": [
    "We can now use a `LabelEncoder` to encode the categorical variable `S_STATE` which denotes the state in which the sale was made."
   ]
  },
  {
   "cell_type": "code",
   "execution_count": 38,
   "id": "6beebad3-79c1-484f-8caa-123e9f8a64c8",
   "metadata": {},
   "outputs": [],
   "source": [
    "s_state_le = LabelEncoder()\n",
    "encoded = s_state_le.fit_transform(ddf_1998.S_STATE)\n",
    "ddf_1998 = ddf_1998.assign(S_STATE_VAL=encoded)"
   ]
  },
  {
   "cell_type": "markdown",
   "id": "956041a5-8ca4-4536-94fd-8b4559362d15",
   "metadata": {},
   "source": [
    "We can also generate a couple of more features such as the day of week or the month in which the sale was made using the `dt` accessor for datetime objects"
   ]
  },
  {
   "cell_type": "code",
   "execution_count": 39,
   "id": "1680ffa2-0058-4b63-b718-4971b37fd9d9",
   "metadata": {},
   "outputs": [],
   "source": [
    "ddf_1998[\"DAY_OF_WEEK\"] = ddf_1998.D_DATE.dt.dayofweek\n",
    "ddf_1998[\"MONTH\"] = ddf_1998.D_DATE.dt.month"
   ]
  },
  {
   "cell_type": "code",
   "execution_count": 40,
   "id": "763efcb1-cbf3-40db-a059-2f10e7c7e0e1",
   "metadata": {},
   "outputs": [],
   "source": [
    "ddf_1998 = ddf_1998.persist()\n",
    "wait(ddf_1998)\n",
    "del(encoded)"
   ]
  },
  {
   "cell_type": "markdown",
   "id": "fe880f26-15c5-470d-8d91-1389c19e7002",
   "metadata": {
    "tags": []
   },
   "source": [
    "### Step 4: Train an Xgboost Model\n",
    "\n",
    "For large scale ML problems it is common to use a `Grid Search` approach to train models over different hyperparameters and choose which one performs the best for the problem."
   ]
  },
  {
   "cell_type": "code",
   "execution_count": 41,
   "id": "a0eb74bf-b4aa-479c-8ac8-4fe9b2cadb94",
   "metadata": {},
   "outputs": [],
   "source": [
    "import itertools\n",
    "import math\n",
    "\n",
    "# Inspired by the solution provided here\n",
    "# https://stackoverflow.com/questions/69300562/how-to-define-the-grid-for-using-grid-search-from-scratch-in-python\n",
    "\n",
    "\n",
    "def generate_grid(params_grid):\n",
    "    \"\"\"\n",
    "    Generate all combinations of parameters provided in `params_grid`.\n",
    "    Returns a list of dictionaries each with a unique combination of params\n",
    "    \"\"\"\n",
    "    param_keys = params_grid.keys()\n",
    "    param_combinations = itertools.product(*params_grid.values())\n",
    "    return [dict(zip(param_keys, combo)) for combo in param_combinations]"
   ]
  },
  {
   "cell_type": "code",
   "execution_count": 42,
   "id": "b94c4289-7c6b-4f8a-8862-d84f0691870c",
   "metadata": {},
   "outputs": [],
   "source": [
    "dxgb_params_options = {\n",
    "    \"tree_method\": [\"gpu_hist\" if USE_GPU else \"hist\"],\n",
    "    \"objective\": [\"reg:squarederror\"],\n",
    "    \"learning_rate\": [0.01, 0.05, 0.1],\n",
    "    \"max_depth\": [5, 6, 7, 8],\n",
    "    \"reg_lambda\": [1.0, 5.0],\n",
    "}"
   ]
  },
  {
   "cell_type": "code",
   "execution_count": 43,
   "id": "d00ca396-5b2c-4221-91dc-7d5709ad677d",
   "metadata": {},
   "outputs": [],
   "source": [
    "import xgboost as xgb\n",
    "\n",
    "\n",
    "X_train = ddf_1998[ddf_1998.columns.difference([\"SS_NET_PROFIT\", \"D_DATE\", \"S_STATE\"])]\n",
    "y_train = ddf_1998[\"SS_NET_PROFIT\"]\n",
    "\n",
    "dgxb_params_list = generate_grid(dxgb_params_options)\n",
    "\n",
    "dtrain = xgb.dask.DaskDMatrix(client, X_train, y_train)"
   ]
  },
  {
   "cell_type": "code",
   "execution_count": 46,
   "id": "e601a652-60c3-4c82-934f-63a3a5cf8939",
   "metadata": {},
   "outputs": [
    {
     "name": "stdout",
     "output_type": "stream",
     "text": [
      "HyperParameter set 0\n"
     ]
    },
    {
     "name": "stderr",
     "output_type": "stream",
     "text": [
      "[17:28:14] task [xgboost.dask]:tcp://127.0.0.1:37013 got new rank 0\n",
      "[17:28:14] task [xgboost.dask]:tcp://127.0.0.1:44577 got new rank 1\n"
     ]
    },
    {
     "name": "stdout",
     "output_type": "stream",
     "text": [
      "Hyperparameter set 0 took 0.5619456768035889s with an RMSE of 1166.643311\n",
      "HyperParameter set 1\n"
     ]
    },
    {
     "name": "stderr",
     "output_type": "stream",
     "text": [
      "[17:28:14] task [xgboost.dask]:tcp://127.0.0.1:37013 got new rank 0\n",
      "[17:28:14] task [xgboost.dask]:tcp://127.0.0.1:44577 got new rank 1\n"
     ]
    },
    {
     "name": "stdout",
     "output_type": "stream",
     "text": [
      "Hyperparameter set 1 took 0.5334196090698242s with an RMSE of 1168.474854\n",
      "HyperParameter set 2\n"
     ]
    },
    {
     "name": "stderr",
     "output_type": "stream",
     "text": [
      "[17:28:15] task [xgboost.dask]:tcp://127.0.0.1:44577 got new rank 0\n",
      "[17:28:15] task [xgboost.dask]:tcp://127.0.0.1:37013 got new rank 1\n"
     ]
    },
    {
     "name": "stdout",
     "output_type": "stream",
     "text": [
      "Hyperparameter set 2 took 0.8261308670043945s with an RMSE of 1112.79187\n",
      "HyperParameter set 3\n"
     ]
    },
    {
     "name": "stderr",
     "output_type": "stream",
     "text": [
      "[17:28:16] task [xgboost.dask]:tcp://127.0.0.1:37013 got new rank 0\n",
      "[17:28:16] task [xgboost.dask]:tcp://127.0.0.1:44577 got new rank 1\n"
     ]
    },
    {
     "name": "stdout",
     "output_type": "stream",
     "text": [
      "Hyperparameter set 3 took 0.8297691345214844s with an RMSE of 1114.808838\n",
      "HyperParameter set 4\n"
     ]
    },
    {
     "name": "stderr",
     "output_type": "stream",
     "text": [
      "[17:28:16] task [xgboost.dask]:tcp://127.0.0.1:37013 got new rank 0\n",
      "[17:28:16] task [xgboost.dask]:tcp://127.0.0.1:44577 got new rank 1\n"
     ]
    },
    {
     "name": "stdout",
     "output_type": "stream",
     "text": [
      "Hyperparameter set 4 took 1.3339109420776367s with an RMSE of 1071.176636\n",
      "HyperParameter set 5\n"
     ]
    },
    {
     "name": "stderr",
     "output_type": "stream",
     "text": [
      "[17:28:18] task [xgboost.dask]:tcp://127.0.0.1:37013 got new rank 0\n",
      "[17:28:18] task [xgboost.dask]:tcp://127.0.0.1:44577 got new rank 1\n"
     ]
    },
    {
     "name": "stdout",
     "output_type": "stream",
     "text": [
      "Hyperparameter set 5 took 1.3080096244812012s with an RMSE of 1074.588013\n",
      "HyperParameter set 6\n"
     ]
    },
    {
     "name": "stderr",
     "output_type": "stream",
     "text": [
      "[17:28:19] task [xgboost.dask]:tcp://127.0.0.1:37013 got new rank 0\n",
      "[17:28:19] task [xgboost.dask]:tcp://127.0.0.1:44577 got new rank 1\n"
     ]
    },
    {
     "name": "stdout",
     "output_type": "stream",
     "text": [
      "Hyperparameter set 6 took 2.178530693054199s with an RMSE of 1032.596436\n",
      "HyperParameter set 7\n"
     ]
    },
    {
     "name": "stderr",
     "output_type": "stream",
     "text": [
      "[17:28:21] task [xgboost.dask]:tcp://127.0.0.1:37013 got new rank 0\n",
      "[17:28:21] task [xgboost.dask]:tcp://127.0.0.1:44577 got new rank 1\n"
     ]
    },
    {
     "name": "stdout",
     "output_type": "stream",
     "text": [
      "Hyperparameter set 7 took 2.1150012016296387s with an RMSE of 1035.16272\n",
      "HyperParameter set 8\n"
     ]
    },
    {
     "name": "stderr",
     "output_type": "stream",
     "text": [
      "[17:28:23] task [xgboost.dask]:tcp://127.0.0.1:37013 got new rank 0\n",
      "[17:28:23] task [xgboost.dask]:tcp://127.0.0.1:44577 got new rank 1\n"
     ]
    },
    {
     "name": "stdout",
     "output_type": "stream",
     "text": [
      "Hyperparameter set 8 took 0.5266432762145996s with an RMSE of 990.884521\n",
      "HyperParameter set 9\n"
     ]
    },
    {
     "name": "stderr",
     "output_type": "stream",
     "text": [
      "[17:28:24] task [xgboost.dask]:tcp://127.0.0.1:37013 got new rank 0\n",
      "[17:28:24] task [xgboost.dask]:tcp://127.0.0.1:44577 got new rank 1\n"
     ]
    },
    {
     "name": "stdout",
     "output_type": "stream",
     "text": [
      "Hyperparameter set 9 took 0.526362419128418s with an RMSE of 995.288391\n",
      "HyperParameter set 10\n"
     ]
    },
    {
     "name": "stderr",
     "output_type": "stream",
     "text": [
      "[17:28:25] task [xgboost.dask]:tcp://127.0.0.1:37013 got new rank 0\n",
      "[17:28:25] task [xgboost.dask]:tcp://127.0.0.1:44577 got new rank 1\n"
     ]
    },
    {
     "name": "stdout",
     "output_type": "stream",
     "text": [
      "Hyperparameter set 10 took 0.8120620250701904s with an RMSE of 925.36853\n",
      "HyperParameter set 11\n"
     ]
    },
    {
     "name": "stderr",
     "output_type": "stream",
     "text": [
      "[17:28:25] task [xgboost.dask]:tcp://127.0.0.1:37013 got new rank 0\n",
      "[17:28:25] task [xgboost.dask]:tcp://127.0.0.1:44577 got new rank 1\n"
     ]
    },
    {
     "name": "stdout",
     "output_type": "stream",
     "text": [
      "Hyperparameter set 11 took 0.8146116733551025s with an RMSE of 924.683533\n",
      "HyperParameter set 12\n"
     ]
    },
    {
     "name": "stderr",
     "output_type": "stream",
     "text": [
      "[17:28:26] task [xgboost.dask]:tcp://127.0.0.1:37013 got new rank 0\n",
      "[17:28:26] task [xgboost.dask]:tcp://127.0.0.1:44577 got new rank 1\n"
     ]
    },
    {
     "name": "stdout",
     "output_type": "stream",
     "text": [
      "Hyperparameter set 12 took 1.282700538635254s with an RMSE of 841.312195\n",
      "HyperParameter set 13\n"
     ]
    },
    {
     "name": "stderr",
     "output_type": "stream",
     "text": [
      "[17:28:28] task [xgboost.dask]:tcp://127.0.0.1:37013 got new rank 0\n",
      "[17:28:28] task [xgboost.dask]:tcp://127.0.0.1:44577 got new rank 1\n"
     ]
    },
    {
     "name": "stdout",
     "output_type": "stream",
     "text": [
      "Hyperparameter set 13 took 1.2612144947052002s with an RMSE of 851.612976\n",
      "HyperParameter set 14\n"
     ]
    },
    {
     "name": "stderr",
     "output_type": "stream",
     "text": [
      "[17:28:29] task [xgboost.dask]:tcp://127.0.0.1:37013 got new rank 0\n",
      "[17:28:29] task [xgboost.dask]:tcp://127.0.0.1:44577 got new rank 1\n"
     ]
    },
    {
     "name": "stdout",
     "output_type": "stream",
     "text": [
      "Hyperparameter set 14 took 1.9620623588562012s with an RMSE of 751.1297\n",
      "HyperParameter set 15\n"
     ]
    },
    {
     "name": "stderr",
     "output_type": "stream",
     "text": [
      "[17:28:31] task [xgboost.dask]:tcp://127.0.0.1:37013 got new rank 0\n",
      "[17:28:31] task [xgboost.dask]:tcp://127.0.0.1:44577 got new rank 1\n"
     ]
    },
    {
     "name": "stdout",
     "output_type": "stream",
     "text": [
      "Hyperparameter set 15 took 1.9888954162597656s with an RMSE of 765.481873\n",
      "HyperParameter set 16\n"
     ]
    },
    {
     "name": "stderr",
     "output_type": "stream",
     "text": [
      "[17:28:33] task [xgboost.dask]:tcp://127.0.0.1:37013 got new rank 0\n",
      "[17:28:33] task [xgboost.dask]:tcp://127.0.0.1:44577 got new rank 1\n"
     ]
    },
    {
     "name": "stdout",
     "output_type": "stream",
     "text": [
      "Hyperparameter set 16 took 0.53468918800354s with an RMSE of 912.525269\n",
      "HyperParameter set 17\n"
     ]
    },
    {
     "name": "stderr",
     "output_type": "stream",
     "text": [
      "[17:28:33] task [xgboost.dask]:tcp://127.0.0.1:37013 got new rank 0\n",
      "[17:28:33] task [xgboost.dask]:tcp://127.0.0.1:44577 got new rank 1\n"
     ]
    },
    {
     "name": "stdout",
     "output_type": "stream",
     "text": [
      "Hyperparameter set 17 took 0.5265071392059326s with an RMSE of 912.370667\n",
      "HyperParameter set 18\n"
     ]
    },
    {
     "name": "stderr",
     "output_type": "stream",
     "text": [
      "[17:28:34] task [xgboost.dask]:tcp://127.0.0.1:37013 got new rank 0\n",
      "[17:28:34] task [xgboost.dask]:tcp://127.0.0.1:44577 got new rank 1\n"
     ]
    },
    {
     "name": "stdout",
     "output_type": "stream",
     "text": [
      "Hyperparameter set 18 took 0.8098516464233398s with an RMSE of 807.171692\n",
      "HyperParameter set 19\n"
     ]
    },
    {
     "name": "stderr",
     "output_type": "stream",
     "text": [
      "[17:28:35] task [xgboost.dask]:tcp://127.0.0.1:37013 got new rank 0\n",
      "[17:28:35] task [xgboost.dask]:tcp://127.0.0.1:44577 got new rank 1\n"
     ]
    },
    {
     "name": "stdout",
     "output_type": "stream",
     "text": [
      "Hyperparameter set 19 took 0.8083326816558838s with an RMSE of 807.884827\n",
      "HyperParameter set 20\n"
     ]
    },
    {
     "name": "stderr",
     "output_type": "stream",
     "text": [
      "[17:28:35] task [xgboost.dask]:tcp://127.0.0.1:37013 got new rank 0\n",
      "[17:28:35] task [xgboost.dask]:tcp://127.0.0.1:44577 got new rank 1\n"
     ]
    },
    {
     "name": "stdout",
     "output_type": "stream",
     "text": [
      "Hyperparameter set 20 took 1.2739548683166504s with an RMSE of 689.32428\n",
      "HyperParameter set 21\n"
     ]
    },
    {
     "name": "stderr",
     "output_type": "stream",
     "text": [
      "[17:28:37] task [xgboost.dask]:tcp://127.0.0.1:37013 got new rank 0\n",
      "[17:28:37] task [xgboost.dask]:tcp://127.0.0.1:44577 got new rank 1\n"
     ]
    },
    {
     "name": "stdout",
     "output_type": "stream",
     "text": [
      "Hyperparameter set 21 took 1.3129804134368896s with an RMSE of 699.092407\n",
      "HyperParameter set 22\n"
     ]
    },
    {
     "name": "stderr",
     "output_type": "stream",
     "text": [
      "[17:28:38] task [xgboost.dask]:tcp://127.0.0.1:37013 got new rank 0\n",
      "[17:28:38] task [xgboost.dask]:tcp://127.0.0.1:44577 got new rank 1\n"
     ]
    },
    {
     "name": "stdout",
     "output_type": "stream",
     "text": [
      "Hyperparameter set 22 took 2.0488574504852295s with an RMSE of 565.761169\n",
      "HyperParameter set 23\n"
     ]
    },
    {
     "name": "stderr",
     "output_type": "stream",
     "text": [
      "[17:28:40] task [xgboost.dask]:tcp://127.0.0.1:44577 got new rank 0\n",
      "[17:28:40] task [xgboost.dask]:tcp://127.0.0.1:37013 got new rank 1\n"
     ]
    },
    {
     "name": "stdout",
     "output_type": "stream",
     "text": [
      "Hyperparameter set 23 took 1.9529192447662354s with an RMSE of 601.445984\n"
     ]
    }
   ],
   "source": [
    "min_rmse = math.inf\n",
    "best_dxgb_params = None\n",
    "model_fname = \"gpu_model.json\" if USE_GPU else \"cpu_model.json\"\n",
    "\n",
    "# Iterate over our hyperparameters and choose the model with the best rmse\n",
    "# In a real world scenario it would make more sense to use some test set for evaluation\n",
    "\n",
    "for iteration, dxgb_param in enumerate(dgxb_params_list):\n",
    "    print(f\"HyperParameter set {iteration}\")\n",
    "    t1 = time.time()\n",
    "    bst = xgb.dask.train(\n",
    "        client,\n",
    "        dxgb_param,\n",
    "        dtrain,\n",
    "        num_boost_round=200,\n",
    "        evals=[(dtrain, \"train\")],\n",
    "        verbose_eval=False,\n",
    "    )\n",
    "    \n",
    "    train_rmse = bst[\"history\"][\"train\"][\"rmse\"][-1]\n",
    "    print(f\"Hyperparameter set {iteration} took {time.time()-t1}s with an RMSE of {train_rmse}\")\n",
    "    \n",
    "    if train_rmse < min_rmse:\n",
    "        min_rmse = train_rmse\n",
    "        best_dxgb_params = dxgb_param\n",
    "        bst[\"booster\"].save_model(model_fname)"
   ]
  },
  {
   "cell_type": "code",
   "execution_count": 47,
   "id": "cf8a743f-20df-4c27-b8cd-98d9113abdb4",
   "metadata": {},
   "outputs": [],
   "source": [
    "del (X_train, y_train, ddf_1998, dtrain, bst)"
   ]
  },
  {
   "cell_type": "markdown",
   "id": "c84b2710-04ef-4b39-8644-662ffae10f3a",
   "metadata": {},
   "source": [
    "### Step 5: Inference\n",
    "\n",
    "Now that we're done training and have a saved model we can use this model for inferencing."
   ]
  },
  {
   "cell_type": "markdown",
   "id": "345dab2f-d1dd-407f-b0d4-dc8af4d0b652",
   "metadata": {},
   "source": [
    "Let's use the data from 1999 to predict the net profit using the model trained above"
   ]
  },
  {
   "cell_type": "code",
   "execution_count": 48,
   "id": "e49132be-7cbd-4c60-86bd-84dfb9798908",
   "metadata": {},
   "outputs": [
    {
     "name": "stdout",
     "output_type": "stream",
     "text": [
      "728281\n"
     ]
    }
   ],
   "source": [
    "ddf_1999 = ddf[ddf.D_DATE.dt.year == 1999]\n",
    "ddf_1999 = ddf_1999.repartition(num_workers)\n",
    "ddf_1999 = ddf_1999.persist()\n",
    "wait(ddf_1999)\n",
    "print(len(ddf_1999))"
   ]
  },
  {
   "cell_type": "code",
   "execution_count": 49,
   "id": "a5d66a69-7c66-4408-b8cc-f8ee46eddf94",
   "metadata": {},
   "outputs": [],
   "source": [
    "# Encode `S_STATES` in the test dataframe using the same encoding fit on the trained data.\n",
    "\n",
    "encoded = s_state_le.transform(ddf_1999.S_STATE)\n",
    "ddf_1999 = ddf_1999.assign(S_STATE_VAL=encoded)\n",
    "\n",
    "ddf_1999[\"DAY_OF_WEEK\"] = ddf_1999.D_DATE.dt.dayofweek\n",
    "ddf_1999[\"MONTH\"] = ddf_1999.D_DATE.dt.month\n",
    "\n",
    "ddf_1999 = ddf_1999.persist()\n",
    "wait(ddf_1999)\n",
    "del(encoded, s_state_le)"
   ]
  },
  {
   "cell_type": "code",
   "execution_count": 50,
   "id": "ff272e9d-6c04-41cb-ba6f-6c59d73b380f",
   "metadata": {},
   "outputs": [],
   "source": [
    "X_test = ddf_1999[ddf_1999.columns.difference([\"SS_NET_PROFIT\", \"D_DATE\", \"S_STATE\"])]\n",
    "y_expect = ddf_1999[\"SS_NET_PROFIT\"]"
   ]
  },
  {
   "cell_type": "markdown",
   "id": "e0a8ee70-4518-445b-b2a9-42a49d1c2bda",
   "metadata": {
    "tags": []
   },
   "source": [
    "#### GPU inferencing using FIL\n",
    "\n",
    "Rapids [Forest Inference library](https://medium.com/rapids-ai/rapids-forest-inference-library-prediction-at-100-million-rows-per-second-19558890bc35) is a great tool that can be used for really fast inferencing on the GPU with any saved treelite model (trained on the CPU or GPU)"
   ]
  },
  {
   "cell_type": "code",
   "execution_count": 51,
   "id": "bd58d4f0-7ffa-4ae2-a188-cd0f4d396b6f",
   "metadata": {},
   "outputs": [
    {
     "name": "stdout",
     "output_type": "stream",
     "text": [
      "Loaded model on all dask workers\n"
     ]
    }
   ],
   "source": [
    "# Initialize all dask workers with the xgboost model\n",
    "def worker_init(\n",
    "    dask_worker,\n",
    "    model_file=\"gpu_model.json\",\n",
    "):\n",
    "\n",
    "    dask_worker.data[\"fil_model\"] = ForestInference.load(\n",
    "        filename=model_file,\n",
    "        model_type=\"xgboost_json\",\n",
    "    )\n",
    "\n",
    "\n",
    "if USE_GPU:\n",
    "    client.run(worker_init)\n",
    "    print(\"Loaded model on all dask workers\")"
   ]
  },
  {
   "cell_type": "code",
   "execution_count": 52,
   "id": "eef7e1e7-8198-4cde-9899-a650145745e0",
   "metadata": {},
   "outputs": [
    {
     "name": "stdout",
     "output_type": "stream",
     "text": [
      "0   -1649.329468\n",
      "1    -399.225464\n",
      "2    -399.225464\n",
      "3    -399.225464\n",
      "4     -15.344209\n",
      "dtype: float32\n"
     ]
    }
   ],
   "source": [
    "if USE_GPU:\n",
    "    def fil_pred(df):\n",
    "        dask_worker = get_worker()\n",
    "        return dask_worker.data[\"fil_model\"].predict(df)\n",
    "\n",
    "\n",
    "    y_got = X_test.map_partitions(fil_pred, meta=\"float\")\n",
    "    y_got = y_got.persist()\n",
    "    wait(y_got)\n",
    "    print(y_got.head())"
   ]
  },
  {
   "cell_type": "markdown",
   "id": "7207c631-a999-4dc0-ac72-c4fe4634c42f",
   "metadata": {
    "tags": []
   },
   "source": [
    "#### Inferencing on the CPU with XGBoost"
   ]
  },
  {
   "cell_type": "code",
   "execution_count": 53,
   "id": "3048282d-25cc-4d5e-9200-2680779399f0",
   "metadata": {},
   "outputs": [],
   "source": [
    "if not USE_GPU:\n",
    "    bst = xgb.Booster()\n",
    "    bst.load_model(fname=\"cpu_model.json\")"
   ]
  },
  {
   "cell_type": "code",
   "execution_count": 54,
   "id": "06ecb99b-f971-4d95-8835-21b86f0feba5",
   "metadata": {},
   "outputs": [],
   "source": [
    "if not USE_GPU:\n",
    "    y_got = xgb.dask.predict(client, model=bst, data=X_test)\n",
    "    y_got = y_got.persist()\n",
    "    wait(y_got)\n",
    "    print(y_got.head())"
   ]
  },
  {
   "cell_type": "markdown",
   "id": "fea99fc1-2cfe-4052-bdf9-8bd491443456",
   "metadata": {},
   "source": [
    "#### Check the inference RMSE"
   ]
  },
  {
   "cell_type": "code",
   "execution_count": 55,
   "id": "da5487d9-d8b8-4bf3-8ce2-b6e5be45816b",
   "metadata": {},
   "outputs": [
    {
     "name": "stdout",
     "output_type": "stream",
     "text": [
      "Testing inference: 1666.5182706565467\n"
     ]
    }
   ],
   "source": [
    "inference_rmse = mean_squared_error(\n",
    "    y_true=y_expect.compute().values,\n",
    "    y_pred=y_got.compute().values.astype(\"float64\"),\n",
    "    squared=False,\n",
    ")\n",
    "print(f\"Testing inference: {inference_rmse}\")"
   ]
  },
  {
   "cell_type": "code",
   "execution_count": 56,
   "id": "1d357d73-34b8-4b09-9b7e-ba25d1f0b3bf",
   "metadata": {},
   "outputs": [],
   "source": [
    "del (ddf_1999, X_test, y_expect, y_got)"
   ]
  },
  {
   "cell_type": "code",
   "execution_count": null,
   "id": "d613a5e8-a90c-4326-8e75-1326734f3dfd",
   "metadata": {},
   "outputs": [],
   "source": []
  }
 ],
 "metadata": {
  "kernelspec": {
   "display_name": "Python 3 (ipykernel)",
   "language": "python",
   "name": "python3"
  },
  "language_info": {
   "codemirror_mode": {
    "name": "ipython",
    "version": 3
   },
   "file_extension": ".py",
   "mimetype": "text/x-python",
   "name": "python",
   "nbconvert_exporter": "python",
   "pygments_lexer": "ipython3",
   "version": "3.8.13"
  }
 },
 "nbformat": 4,
 "nbformat_minor": 5
}
